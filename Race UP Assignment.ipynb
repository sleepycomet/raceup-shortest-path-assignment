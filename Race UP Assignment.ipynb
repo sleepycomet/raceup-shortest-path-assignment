{
 "cells": [
  {
   "cell_type": "code",
   "execution_count": 1,
   "id": "41966753-fed4-4a40-8942-b1197c8f0e15",
   "metadata": {},
   "outputs": [],
   "source": [
    "import numpy as np\n",
    "import pandas as pd\n",
    "from scipy.sparse import coo_array\n",
    "\n",
    "import matplotlib.pyplot as plt\n",
    "from matplotlib.collections import LineCollection"
   ]
  },
  {
   "cell_type": "markdown",
   "id": "db1e762e-5896-4920-a884-6f7016a01b22",
   "metadata": {},
   "source": [
    "# Build the mesh and weighted adjacency matrix"
   ]
  },
  {
   "cell_type": "code",
   "execution_count": 2,
   "id": "4a9794d9-e600-4e63-aa31-f3c31c8d12b9",
   "metadata": {},
   "outputs": [],
   "source": [
    "# Semicircular track parameters\n",
    "INNER_RADIUS = 7\n",
    "OUTER_RADIUS = 10\n",
    "\n",
    "# Mesh parameters, H ~ radial, K ~ arc\n",
    "H = 5\n",
    "K = 14"
   ]
  },
  {
   "cell_type": "markdown",
   "id": "1f5138f7-1636-46af-8d90-0d5c08aaeae9",
   "metadata": {
    "jp-MarkdownHeadingCollapsed": true
   },
   "source": [
    "## Old approach"
   ]
  },
  {
   "cell_type": "code",
   "execution_count": 3,
   "id": "c778d819-61a9-4a37-9a6f-5d944a2d912c",
   "metadata": {},
   "outputs": [
    {
     "data": {
      "text/html": [
       "<div>\n",
       "<style scoped>\n",
       "    .dataframe tbody tr th:only-of-type {\n",
       "        vertical-align: middle;\n",
       "    }\n",
       "\n",
       "    .dataframe tbody tr th {\n",
       "        vertical-align: top;\n",
       "    }\n",
       "\n",
       "    .dataframe thead th {\n",
       "        text-align: right;\n",
       "    }\n",
       "</style>\n",
       "<table border=\"1\" class=\"dataframe\">\n",
       "  <thead>\n",
       "    <tr style=\"text-align: right;\">\n",
       "      <th></th>\n",
       "      <th>0</th>\n",
       "      <th>1</th>\n",
       "      <th>2</th>\n",
       "      <th>3</th>\n",
       "      <th>4</th>\n",
       "    </tr>\n",
       "  </thead>\n",
       "  <tbody>\n",
       "    <tr>\n",
       "      <th>0</th>\n",
       "      <td>7.0</td>\n",
       "      <td>7.75</td>\n",
       "      <td>8.5</td>\n",
       "      <td>9.25</td>\n",
       "      <td>10.0</td>\n",
       "    </tr>\n",
       "    <tr>\n",
       "      <th>1</th>\n",
       "      <td>0.0</td>\n",
       "      <td>0.00</td>\n",
       "      <td>0.0</td>\n",
       "      <td>0.00</td>\n",
       "      <td>0.0</td>\n",
       "    </tr>\n",
       "  </tbody>\n",
       "</table>\n",
       "</div>"
      ],
      "text/plain": [
       "     0     1    2     3     4\n",
       "0  7.0  7.75  8.5  9.25  10.0\n",
       "1  0.0  0.00  0.0  0.00   0.0"
      ]
     },
     "execution_count": 3,
     "metadata": {},
     "output_type": "execute_result"
    }
   ],
   "source": [
    "track_iter = np.zeros((2,H))\n",
    "track_iter[0,:] = np.linspace(INNER_RADIUS, OUTER_RADIUS, H)\n",
    "pd.DataFrame(track_iter)"
   ]
  },
  {
   "cell_type": "code",
   "execution_count": 4,
   "id": "0c00ce65-ebb4-4c7c-9e4c-49953b86951a",
   "metadata": {},
   "outputs": [],
   "source": [
    "def iterate_track_arc(theta, track_iter):\n",
    "    R = np.array([[np.cos(theta), -np.sin(theta)],\n",
    "                  [np.sin(theta),  np.cos(theta)]])\n",
    "    \n",
    "    next_track_iter = R@track_iter\n",
    "    nondiag_distances = np.linalg.norm(next_track_iter - track_iter, axis=0)\n",
    "\n",
    "    return next_track_iter, nondiag_distances"
   ]
  },
  {
   "cell_type": "code",
   "execution_count": 5,
   "id": "b0b87ff6-e3bf-44c8-99bb-eba226f42921",
   "metadata": {},
   "outputs": [
    {
     "data": {
      "text/html": [
       "<div>\n",
       "<style scoped>\n",
       "    .dataframe tbody tr th:only-of-type {\n",
       "        vertical-align: middle;\n",
       "    }\n",
       "\n",
       "    .dataframe tbody tr th {\n",
       "        vertical-align: top;\n",
       "    }\n",
       "\n",
       "    .dataframe thead th {\n",
       "        text-align: right;\n",
       "    }\n",
       "</style>\n",
       "<table border=\"1\" class=\"dataframe\">\n",
       "  <thead>\n",
       "    <tr style=\"text-align: right;\">\n",
       "      <th></th>\n",
       "      <th>0</th>\n",
       "    </tr>\n",
       "  </thead>\n",
       "  <tbody>\n",
       "    <tr>\n",
       "      <th>0</th>\n",
       "      <td>1.567503</td>\n",
       "    </tr>\n",
       "    <tr>\n",
       "      <th>1</th>\n",
       "      <td>1.735449</td>\n",
       "    </tr>\n",
       "    <tr>\n",
       "      <th>2</th>\n",
       "      <td>1.903396</td>\n",
       "    </tr>\n",
       "    <tr>\n",
       "      <th>3</th>\n",
       "      <td>2.071343</td>\n",
       "    </tr>\n",
       "    <tr>\n",
       "      <th>4</th>\n",
       "      <td>2.239290</td>\n",
       "    </tr>\n",
       "  </tbody>\n",
       "</table>\n",
       "</div>"
      ],
      "text/plain": [
       "          0\n",
       "0  1.567503\n",
       "1  1.735449\n",
       "2  1.903396\n",
       "3  2.071343\n",
       "4  2.239290"
      ]
     },
     "execution_count": 5,
     "metadata": {},
     "output_type": "execute_result"
    }
   ],
   "source": [
    "track_iter, nondiag_distances = iterate_track_arc(np.pi/K, track_iter)\n",
    "diag_distances = None\n",
    "pd.DataFrame(nondiag_distances)"
   ]
  },
  {
   "cell_type": "markdown",
   "id": "28ad7924-b547-4051-8f96-f7e50cd31e87",
   "metadata": {},
   "source": [
    "## New approach\n",
    "\n",
    "The previous approach was based on the idea of computing entries in the weighted adjacency matrix during each iteration, possibly reusing the cos/sin calculations while computing the norm.\n",
    "I determined that this would probably have negligible gains, if any at all, over the more modular/readable style of computing the mesh first, then the weighted adjacency matrix after.\n",
    "\n",
    "The following is a simple, partially vectorized method to compute the mesh. Not much to say about it, I chose to vectorize along the larger dimension K to reduce iteration."
   ]
  },
  {
   "cell_type": "code",
   "execution_count": 6,
   "id": "57d860f5-a144-412f-8c18-69abae94c192",
   "metadata": {},
   "outputs": [],
   "source": [
    "def arc(thetas, radius):\n",
    "    return radius * np.array([np.cos(thetas),np.sin(thetas)])"
   ]
  },
  {
   "cell_type": "code",
   "execution_count": 7,
   "id": "9bd4fa69-49ca-4a15-abbb-99af864112c7",
   "metadata": {},
   "outputs": [],
   "source": [
    "thetas = np.linspace(0, np.pi, K)\n",
    "radii = np.linspace(INNER_RADIUS, OUTER_RADIUS, H)\n",
    "# print(arc(thetas[:-1], radii[H-1]))\n",
    "\n",
    "mesh = np.zeros((2,K,H))\n",
    "for i, radius in enumerate(radii):\n",
    "    mesh[:,:,i] = arc(thetas, radius)\n",
    "\n",
    "#mesh[:,20,40]"
   ]
  },
  {
   "cell_type": "markdown",
   "id": "101190b7-34d6-47f6-8923-18ce0ee6be0f",
   "metadata": {},
   "source": [
    "## Adjacency matrix\n",
    "\n",
    "When theta is invariant, the distance between adjacent points on the radial axis is constant. ||*|| is nondiag distance as seen in older method above, ||**|| is diag distance\n",
    "\n",
    "|          | (th0,r0) | (th0,r1) | ... | (th0,rH) | (th1,r0)   | ... | ... | (thK,rH) |\n",
    "|----------|----------|----------|-----|----------|------------|-----|-----|----------|\n",
    "| (th0,r0) | 0        | (OUTER-INNER)/H     | ... | 0        | \\|\\|*\\|\\|  |     |     |          |\n",
    "| (th0,r1) |          | 0        | ... |          | \\|\\|**\\|\\| |     |     |          |\n",
    "| ...      |          |          |     |          |            |     |     |          |"
   ]
  },
  {
   "cell_type": "code",
   "execution_count": 16,
   "id": "585292d6-ddc4-44c8-8d49-f9284679f197",
   "metadata": {},
   "outputs": [
    {
     "name": "stdout",
     "output_type": "stream",
     "text": [
      "[(0, 1), (0, 5), (0, 6)]\n",
      "[(1, 2), (1, 5), (1, 6), (1, 7)]\n",
      "[(2, 3), (2, 6), (2, 7), (2, 8)]\n",
      "[(3, 4), (3, 7), (3, 8), (3, 9)]\n",
      "[(4, 8), (4, 9)]\n",
      "[(5, 6), (5, 10), (5, 11)]\n",
      "[(6, 7), (6, 10), (6, 11), (6, 12)]\n",
      "[(7, 8), (7, 11), (7, 12), (7, 13)]\n",
      "[(8, 9), (8, 12), (8, 13), (8, 14)]\n",
      "[(9, 13), (9, 14)]\n",
      "[(10, 11), (10, 15), (10, 16)]\n",
      "[(11, 12), (11, 15), (11, 16), (11, 17)]\n",
      "[(12, 13), (12, 16), (12, 17), (12, 18)]\n",
      "[(13, 14), (13, 17), (13, 18), (13, 19)]\n",
      "[(14, 18), (14, 19)]\n",
      "[(15, 16), (15, 20), (15, 21)]\n",
      "[(16, 17), (16, 20), (16, 21), (16, 22)]\n",
      "[(17, 18), (17, 21), (17, 22), (17, 23)]\n",
      "[(18, 19), (18, 22), (18, 23), (18, 24)]\n",
      "[(19, 23), (19, 24)]\n",
      "[(20, 21), (20, 25), (20, 26)]\n",
      "[(21, 22), (21, 25), (21, 26), (21, 27)]\n",
      "[(22, 23), (22, 26), (22, 27), (22, 28)]\n",
      "[(23, 24), (23, 27), (23, 28), (23, 29)]\n",
      "[(24, 28), (24, 29)]\n",
      "[(25, 26), (25, 30), (25, 31)]\n",
      "[(26, 27), (26, 30), (26, 31), (26, 32)]\n",
      "[(27, 28), (27, 31), (27, 32), (27, 33)]\n",
      "[(28, 29), (28, 32), (28, 33), (28, 34)]\n",
      "[(29, 33), (29, 34)]\n",
      "[(30, 31), (30, 35), (30, 36)]\n",
      "[(31, 32), (31, 35), (31, 36), (31, 37)]\n",
      "[(32, 33), (32, 36), (32, 37), (32, 38)]\n",
      "[(33, 34), (33, 37), (33, 38), (33, 39)]\n",
      "[(34, 38), (34, 39)]\n",
      "[(35, 36), (35, 40), (35, 41)]\n",
      "[(36, 37), (36, 40), (36, 41), (36, 42)]\n",
      "[(37, 38), (37, 41), (37, 42), (37, 43)]\n",
      "[(38, 39), (38, 42), (38, 43), (38, 44)]\n",
      "[(39, 43), (39, 44)]\n",
      "[(40, 41), (40, 45), (40, 46)]\n",
      "[(41, 42), (41, 45), (41, 46), (41, 47)]\n",
      "[(42, 43), (42, 46), (42, 47), (42, 48)]\n",
      "[(43, 44), (43, 47), (43, 48), (43, 49)]\n",
      "[(44, 48), (44, 49)]\n",
      "[(45, 46), (45, 50), (45, 51)]\n",
      "[(46, 47), (46, 50), (46, 51), (46, 52)]\n",
      "[(47, 48), (47, 51), (47, 52), (47, 53)]\n",
      "[(48, 49), (48, 52), (48, 53), (48, 54)]\n",
      "[(49, 53), (49, 54)]\n",
      "[(50, 51), (50, 55), (50, 56)]\n",
      "[(51, 52), (51, 55), (51, 56), (51, 57)]\n",
      "[(52, 53), (52, 56), (52, 57), (52, 58)]\n",
      "[(53, 54), (53, 57), (53, 58), (53, 59)]\n",
      "[(54, 58), (54, 59)]\n",
      "[(55, 56), (55, 60), (55, 61)]\n",
      "[(56, 57), (56, 60), (56, 61), (56, 62)]\n",
      "[(57, 58), (57, 61), (57, 62), (57, 63)]\n",
      "[(58, 59), (58, 62), (58, 63), (58, 64)]\n",
      "[(59, 63), (59, 64)]\n",
      "[(60, 61), (60, 65), (60, 66)]\n",
      "[(61, 62), (61, 65), (61, 66), (61, 67)]\n",
      "[(62, 63), (62, 66), (62, 67), (62, 68)]\n",
      "[(63, 64), (63, 67), (63, 68), (63, 69)]\n",
      "[(64, 68), (64, 69)]\n",
      "[(65, 66)]\n",
      "[(66, 67)]\n",
      "[(67, 68)]\n",
      "[(68, 69)]\n",
      "[]\n"
     ]
    }
   ],
   "source": [
    "weighted_adj = np.zeros((H*K,H*K))\n",
    "\n",
    "for theta_i, radius_i, in np.ndindex(mesh.shape[1:]):\n",
    "    # Collect the indices for distance calculation #\n",
    "    adj_i = H*theta_i + radius_i\n",
    "    adj_j = []\n",
    "\n",
    "    if radius_i != H-1:  # Not on outer edge (covers all radial)\n",
    "        adj_j.append(adj_i + 1)\n",
    "        \n",
    "    if theta_i != K-1:  # Not at end of track segment (prereq for forward/diagonal)\n",
    "        \n",
    "        if radius_i != 0:  # Permits inner diag\n",
    "            adj_j.append(adj_i + H-1)\n",
    "            \n",
    "        adj_j.append(adj_i + H)  # Directly forward\n",
    "\n",
    "        if radius_i != H-1:  # Permits outer diag\n",
    "            adj_j.append(adj_i + H+1)\n",
    "\n",
    "    print(list(zip([adj_i for _ in adj_j], adj_j)))\n",
    "        \n",
    "    #print(f\"T:{theta_i}, R:{radius_i} : {mesh[:,theta_i,radius_i]}\")"
   ]
  },
  {
   "cell_type": "code",
   "execution_count": 10,
   "id": "e9978831-f4c6-40b1-a1f6-4d93f7a74d13",
   "metadata": {},
   "outputs": [
    {
     "data": {
      "text/html": [
       "<div>\n",
       "<style scoped>\n",
       "    .dataframe tbody tr th:only-of-type {\n",
       "        vertical-align: middle;\n",
       "    }\n",
       "\n",
       "    .dataframe tbody tr th {\n",
       "        vertical-align: top;\n",
       "    }\n",
       "\n",
       "    .dataframe thead th {\n",
       "        text-align: right;\n",
       "    }\n",
       "</style>\n",
       "<table border=\"1\" class=\"dataframe\">\n",
       "  <thead>\n",
       "    <tr style=\"text-align: right;\">\n",
       "      <th></th>\n",
       "      <th>0</th>\n",
       "      <th>1</th>\n",
       "      <th>2</th>\n",
       "      <th>3</th>\n",
       "      <th>4</th>\n",
       "    </tr>\n",
       "  </thead>\n",
       "  <tbody>\n",
       "    <tr>\n",
       "      <th>0</th>\n",
       "      <td>7.000000</td>\n",
       "      <td>7.750000</td>\n",
       "      <td>8.500000</td>\n",
       "      <td>9.250000</td>\n",
       "      <td>10.000000</td>\n",
       "    </tr>\n",
       "    <tr>\n",
       "      <th>1</th>\n",
       "      <td>6.796593</td>\n",
       "      <td>7.524799</td>\n",
       "      <td>8.253005</td>\n",
       "      <td>8.981212</td>\n",
       "      <td>9.709418</td>\n",
       "    </tr>\n",
       "    <tr>\n",
       "      <th>2</th>\n",
       "      <td>6.198192</td>\n",
       "      <td>6.862284</td>\n",
       "      <td>7.526376</td>\n",
       "      <td>8.190468</td>\n",
       "      <td>8.854560</td>\n",
       "    </tr>\n",
       "    <tr>\n",
       "      <th>3</th>\n",
       "      <td>5.239575</td>\n",
       "      <td>5.800958</td>\n",
       "      <td>6.362341</td>\n",
       "      <td>6.923724</td>\n",
       "      <td>7.485107</td>\n",
       "    </tr>\n",
       "    <tr>\n",
       "      <th>4</th>\n",
       "      <td>3.976453</td>\n",
       "      <td>4.402502</td>\n",
       "      <td>4.828550</td>\n",
       "      <td>5.254599</td>\n",
       "      <td>5.680647</td>\n",
       "    </tr>\n",
       "    <tr>\n",
       "      <th>5</th>\n",
       "      <td>2.482234</td>\n",
       "      <td>2.748188</td>\n",
       "      <td>3.014142</td>\n",
       "      <td>3.280095</td>\n",
       "      <td>3.546049</td>\n",
       "    </tr>\n",
       "    <tr>\n",
       "      <th>6</th>\n",
       "      <td>0.843757</td>\n",
       "      <td>0.934159</td>\n",
       "      <td>1.024562</td>\n",
       "      <td>1.114964</td>\n",
       "      <td>1.205367</td>\n",
       "    </tr>\n",
       "    <tr>\n",
       "      <th>7</th>\n",
       "      <td>-0.843757</td>\n",
       "      <td>-0.934159</td>\n",
       "      <td>-1.024562</td>\n",
       "      <td>-1.114964</td>\n",
       "      <td>-1.205367</td>\n",
       "    </tr>\n",
       "    <tr>\n",
       "      <th>8</th>\n",
       "      <td>-2.482234</td>\n",
       "      <td>-2.748188</td>\n",
       "      <td>-3.014142</td>\n",
       "      <td>-3.280095</td>\n",
       "      <td>-3.546049</td>\n",
       "    </tr>\n",
       "    <tr>\n",
       "      <th>9</th>\n",
       "      <td>-3.976453</td>\n",
       "      <td>-4.402502</td>\n",
       "      <td>-4.828550</td>\n",
       "      <td>-5.254599</td>\n",
       "      <td>-5.680647</td>\n",
       "    </tr>\n",
       "    <tr>\n",
       "      <th>10</th>\n",
       "      <td>-5.239575</td>\n",
       "      <td>-5.800958</td>\n",
       "      <td>-6.362341</td>\n",
       "      <td>-6.923724</td>\n",
       "      <td>-7.485107</td>\n",
       "    </tr>\n",
       "    <tr>\n",
       "      <th>11</th>\n",
       "      <td>-6.198192</td>\n",
       "      <td>-6.862284</td>\n",
       "      <td>-7.526376</td>\n",
       "      <td>-8.190468</td>\n",
       "      <td>-8.854560</td>\n",
       "    </tr>\n",
       "    <tr>\n",
       "      <th>12</th>\n",
       "      <td>-6.796593</td>\n",
       "      <td>-7.524799</td>\n",
       "      <td>-8.253005</td>\n",
       "      <td>-8.981212</td>\n",
       "      <td>-9.709418</td>\n",
       "    </tr>\n",
       "    <tr>\n",
       "      <th>13</th>\n",
       "      <td>-7.000000</td>\n",
       "      <td>-7.750000</td>\n",
       "      <td>-8.500000</td>\n",
       "      <td>-9.250000</td>\n",
       "      <td>-10.000000</td>\n",
       "    </tr>\n",
       "  </tbody>\n",
       "</table>\n",
       "</div>"
      ],
      "text/plain": [
       "           0         1         2         3          4\n",
       "0   7.000000  7.750000  8.500000  9.250000  10.000000\n",
       "1   6.796593  7.524799  8.253005  8.981212   9.709418\n",
       "2   6.198192  6.862284  7.526376  8.190468   8.854560\n",
       "3   5.239575  5.800958  6.362341  6.923724   7.485107\n",
       "4   3.976453  4.402502  4.828550  5.254599   5.680647\n",
       "5   2.482234  2.748188  3.014142  3.280095   3.546049\n",
       "6   0.843757  0.934159  1.024562  1.114964   1.205367\n",
       "7  -0.843757 -0.934159 -1.024562 -1.114964  -1.205367\n",
       "8  -2.482234 -2.748188 -3.014142 -3.280095  -3.546049\n",
       "9  -3.976453 -4.402502 -4.828550 -5.254599  -5.680647\n",
       "10 -5.239575 -5.800958 -6.362341 -6.923724  -7.485107\n",
       "11 -6.198192 -6.862284 -7.526376 -8.190468  -8.854560\n",
       "12 -6.796593 -7.524799 -8.253005 -8.981212  -9.709418\n",
       "13 -7.000000 -7.750000 -8.500000 -9.250000 -10.000000"
      ]
     },
     "execution_count": 10,
     "metadata": {},
     "output_type": "execute_result"
    }
   ],
   "source": [
    "pd.DataFrame(mesh[0,:,:])"
   ]
  },
  {
   "cell_type": "code",
   "execution_count": 11,
   "id": "e2b00471-ab4a-46d1-89d7-43c664a13989",
   "metadata": {},
   "outputs": [
    {
     "data": {
      "text/plain": [
       "array([  7.        ,   7.75      ,   8.5       ,   9.25      ,\n",
       "        10.        ,   6.79659272,   7.52479909,   8.25300545,\n",
       "         8.98121181,   9.70941817,   6.19819218,   6.8622842 ,\n",
       "         7.52637622,   8.19046824,   8.85456026,   5.23957524,\n",
       "         5.8009583 ,   6.36234136,   6.92372442,   7.48510748,\n",
       "         3.97645323,   4.40250179,   4.82855035,   5.25459891,\n",
       "         5.68064747,   2.48223421,   2.74818787,   3.01414154,\n",
       "         3.28009521,   3.54604887,   0.84375676,   0.93415927,\n",
       "         1.02456178,   1.11496429,   1.2053668 ,  -0.84375676,\n",
       "        -0.93415927,  -1.02456178,  -1.11496429,  -1.2053668 ,\n",
       "        -2.48223421,  -2.74818787,  -3.01414154,  -3.28009521,\n",
       "        -3.54604887,  -3.97645323,  -4.40250179,  -4.82855035,\n",
       "        -5.25459891,  -5.68064747,  -5.23957524,  -5.8009583 ,\n",
       "        -6.36234136,  -6.92372442,  -7.48510748,  -6.19819218,\n",
       "        -6.8622842 ,  -7.52637622,  -8.19046824,  -8.85456026,\n",
       "        -6.79659272,  -7.52479909,  -8.25300545,  -8.98121181,\n",
       "        -9.70941817,  -7.        ,  -7.75      ,  -8.5       ,\n",
       "        -9.25      , -10.        ])"
      ]
     },
     "execution_count": 11,
     "metadata": {},
     "output_type": "execute_result"
    }
   ],
   "source": [
    "np.ravel(mesh[0,:,:])"
   ]
  },
  {
   "cell_type": "markdown",
   "id": "698cd3f7-e75d-4acd-927e-582db16c26dd",
   "metadata": {},
   "source": [
    "## Mesh Sanity Check"
   ]
  },
  {
   "cell_type": "code",
   "execution_count": 12,
   "id": "cfab8376-eb5a-4ea4-8379-c5d7f8ec8f4e",
   "metadata": {},
   "outputs": [],
   "source": [
    "x = np.ravel(mesh[0,:,:])\n",
    "y = np.ravel(mesh[1,:,:])"
   ]
  },
  {
   "cell_type": "code",
   "execution_count": 13,
   "id": "ebf675e6-8039-42cf-b18d-a9c69c4eb5a5",
   "metadata": {},
   "outputs": [
    {
     "data": {
      "image/png": "[encoded data removed]",
      "text/plain": [
       "<Figure size 640x480 with 1 Axes>"
      ]
     },
     "metadata": {},
     "output_type": "display_data"
    }
   ],
   "source": [
    "plt.scatter(x, y, marker='.')\n",
    "plt.gca().set_aspect('equal')\n",
    "plt.show()"
   ]
  },
  {
   "cell_type": "code",
   "execution_count": null,
   "id": "f033dbbd-e34e-4aa4-8b97-1c29cdbaa3df",
   "metadata": {},
   "outputs": [],
   "source": []
  }
 ],
 "metadata": {
  "kernelspec": {
   "display_name": "Python 3 (ipykernel)",
   "language": "python",
   "name": "python3"
  },
  "language_info": {
   "codemirror_mode": {
    "name": "ipython",
    "version": 3
   },
   "file_extension": ".py",
   "mimetype": "text/x-python",
   "name": "python",
   "nbconvert_exporter": "python",
   "pygments_lexer": "ipython3",
   "version": "3.13.7"
  }
 },
 "nbformat": 4,
 "nbformat_minor": 5
}
